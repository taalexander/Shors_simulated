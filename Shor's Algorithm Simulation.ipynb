{
 "metadata": {
  "name": ""
 },
 "nbformat": 3,
 "nbformat_minor": 0,
 "worksheets": [
  {
   "cells": [
    {
     "cell_type": "markdown",
     "metadata": {},
     "source": [
      "# Simulating Shor's Algorithm "
     ]
    },
    {
     "cell_type": "markdown",
     "metadata": {},
     "source": [
      "### The Algorithmic Procedure\n",
      "1. Choose a number randomly $a<N$\n",
      "2. Calculate the greatest common denominator of $a$ and $N$. If it is not the trivial case of $1$ than a factor has been found.\n",
      "3. If no gcd is found than use the Shor's period finding routine to calculate the period of $$f(x) = a^x mod N$$, ie. when $f(x+r) = f(x)$\n",
      "4. If $r$ is found to be odd, return to step one. \n",
      "5. If $a^\\frac{r}{2}=-1 mod N$ return to step 1. \n",
      "6. Two factors of $N$ are the $gcd(a^\\frac{r}{2}\\pm 1, N)$\n",
      "7. If these are not the only two factors of $N$ divide $N$ by the two discovered factors and return to step one with $N_2 = \\frac{N_1}{gcd(a^{r/2}+ 1, N)gcd(a^{r/2}- 1, N)}$"
     ]
    },
    {
     "cell_type": "markdown",
     "metadata": {},
     "source": [
      "####Import all necessary libraries"
     ]
    },
    {
     "cell_type": "code",
     "collapsed": false,
     "input": [
      "import numpy as np \n",
      "import fractions as frac \n",
      "from random import random as rand"
     ],
     "language": "python",
     "metadata": {},
     "outputs": [],
     "prompt_number": 1
    },
    {
     "cell_type": "markdown",
     "metadata": {},
     "source": [
      "First we must check that $N$ is not even "
     ]
    },
    {
     "cell_type": "code",
     "collapsed": false,
     "input": [
      "def iseven(N):\n",
      "    return N%2==0"
     ],
     "language": "python",
     "metadata": {},
     "outputs": [],
     "prompt_number": 2
    },
    {
     "cell_type": "markdown",
     "metadata": {},
     "source": [
      "Next we must verify that N is not the power of a prime number "
     ]
    },
    {
     "cell_type": "code",
     "collapsed": false,
     "input": [
      "def isPrime(n):\n",
      "    \"\"\"\"source:http://stackoverflow.com/questions/15285534/isprime-function-for-python-language\"\"\"\n",
      "    if n < 2: \n",
      "         return False;\n",
      "    if n % 2 == 0:\n",
      "         # return False\n",
      "         return n == 2\n",
      "    k = 3\n",
      "    while k*k <= n:\n",
      "         if n % k == 0:\n",
      "             return False\n",
      "         k += 2\n",
      "    return True\n",
      "\n",
      "def isPowerofPrime(N):\n",
      "    for x in range(1,int(math.ceil(math.log(N,2)))+1):\n",
      "        \n",
      "        test = math.pow(N,1./x)\n",
      "        if abs(test-float(int(test)))<0.00000001 and isPrime(int(test)):\n",
      "            \n",
      "            return True,test,x\n",
      "    return False,N,0"
     ],
     "language": "python",
     "metadata": {},
     "outputs": [],
     "prompt_number": 3
    },
    {
     "cell_type": "markdown",
     "metadata": {},
     "source": [
      "We must select a value $a<N$. If $a$ and $N$ share a common denominator, that this denominator is a factor of $N$. "
     ]
    },
    {
     "cell_type": "code",
     "collapsed": false,
     "input": [
      "def select_a(N):\n",
      "    return randint(1,N)\n",
      "\n",
      "def gcd(a,N):\n",
      "    return frac.gcd(a,N)"
     ],
     "language": "python",
     "metadata": {},
     "outputs": [],
     "prompt_number": 4
    },
    {
     "cell_type": "markdown",
     "metadata": {},
     "source": [
      "If value for $N$ has passed all tests for $a$ we now must find the period of $f(x) = a^x mod N$ where $f(x+r)=f(x)$. We will use Shor's period finding algorithim"
     ]
    },
    {
     "cell_type": "code",
     "collapsed": false,
     "input": [
      "def f_0(N,a,x):  \n",
      "    \n",
      "    temp = a**x\n",
      "    if isinstance(temp,np.ndarray):        \n",
      "        temp.dtype = int\n",
      "    else:\n",
      "        temp = int(temp)\n",
      "    return temp%N\n",
      "# We can create our specific function for N and a using a lambda function\n",
      "\n",
      "#test values\n",
      "N = 15\n",
      "a = 2\n",
      "f = lambda x : f_0(N,a,x)"
     ],
     "language": "python",
     "metadata": {},
     "outputs": [],
     "prompt_number": 5
    },
    {
     "cell_type": "markdown",
     "metadata": {},
     "source": [
      "We require our basis states $\\{|0>,|1>,|2>,\\cdots,|N-1>$. This just corresponds to a $n\\times n$ identity matrix."
     ]
    },
    {
     "cell_type": "code",
     "collapsed": false,
     "input": [
      "def genBasis(N):\n",
      "    n = math.ceil(math.log(N,2))\n",
      "    return np.identity(N)[::-1]"
     ],
     "language": "python",
     "metadata": {},
     "outputs": [],
     "prompt_number": 6
    },
    {
     "cell_type": "markdown",
     "metadata": {},
     "source": [
      "Here we generate a ket $|f(x)>$"
     ]
    },
    {
     "cell_type": "markdown",
     "metadata": {},
     "source": [
      "We must create the initial normalized quantum state. $$\\frac{1}{\\sqrt{N}}\\sum \\limits_x |x>|f(x)>$$"
     ]
    },
    {
     "cell_type": "markdown",
     "metadata": {},
     "source": [
      "We need a function that applies the Quantum Fourier Transform $$\\frac{1}{\\sqrt{N}}\\sum \\limits_y e^{2\\pi i xy/N}|y>$$ to our state and constructs to our initial state $$\\frac{1}{\\sqrt{N}}\\sum \\limits_x |x>|f(x)>$$. Resulting in the state $$\\frac{1}{N}\\sum \\limits_x \\sum \\limits_y e^{2\\pi i x y/N} |y>|f(x)>$$"
     ]
    },
    {
     "cell_type": "code",
     "collapsed": false,
     "input": [
      "def gen_qft_state(N,f):\n",
      "    basis = genBasis(N*N)\n",
      "    state = np.zeros(N*N,dtype=complex128)\n",
      "    for x in range(N):        \n",
      "        for y in range(N):\n",
      "           state+=exp(2*np.pi*x*y* 1j/N)*basis[y*N+f(x)] \n",
      "    return state*(1./N)"
     ],
     "language": "python",
     "metadata": {},
     "outputs": [],
     "prompt_number": 7
    },
    {
     "cell_type": "markdown",
     "metadata": {},
     "source": [
      "We now must measure this fourier transformed state. The resultant value will allow us to calculate an ideal candiate for the period. $Pr(|x>) = |\\alpha_x|^2<x|x>$"
     ]
    },
    {
     "cell_type": "code",
     "collapsed": false,
     "input": [
      "def measure(state):\n",
      "    l = state\n",
      "    t = np.transpose(np.conjugate(l))\n",
      "    probs = t*l  \n",
      "    \n",
      "    choose = rand()\n",
      "    s = 0\n",
      "    for i,x in enumerate(probs):\n",
      "        \n",
      "        temp = s+probs[i]\n",
      "        if choose >= s and choose <= temp:\n",
      "            return i\n",
      "        s = temp\n",
      "    return len(state)-1"
     ],
     "language": "python",
     "metadata": {},
     "outputs": [],
     "prompt_number": 8
    },
    {
     "cell_type": "code",
     "collapsed": false,
     "input": [
      "sta = gen_qft_state(3,f)\n",
      "print(sta)\n",
      "measure(sta)"
     ],
     "language": "python",
     "metadata": {},
     "outputs": [
      {
       "ename": "IndexError",
       "evalue": "index 10 is out of bounds for axis 0 with size 9",
       "output_type": "pyerr",
       "traceback": [
        "\u001b[1;31m---------------------------------------------------------------------------\u001b[0m\n\u001b[1;31mIndexError\u001b[0m                                Traceback (most recent call last)",
        "\u001b[1;32m<ipython-input-9-935d8a243454>\u001b[0m in \u001b[0;36m<module>\u001b[1;34m()\u001b[0m\n\u001b[1;32m----> 1\u001b[1;33m \u001b[0msta\u001b[0m \u001b[1;33m=\u001b[0m \u001b[0mgen_qft_state\u001b[0m\u001b[1;33m(\u001b[0m\u001b[1;36m3\u001b[0m\u001b[1;33m,\u001b[0m\u001b[0mf\u001b[0m\u001b[1;33m)\u001b[0m\u001b[1;33m\u001b[0m\u001b[0m\n\u001b[0m\u001b[0;32m      2\u001b[0m \u001b[1;32mprint\u001b[0m\u001b[1;33m(\u001b[0m\u001b[0msta\u001b[0m\u001b[1;33m)\u001b[0m\u001b[1;33m\u001b[0m\u001b[0m\n\u001b[0;32m      3\u001b[0m \u001b[0mmeasure\u001b[0m\u001b[1;33m(\u001b[0m\u001b[0msta\u001b[0m\u001b[1;33m)\u001b[0m\u001b[1;33m\u001b[0m\u001b[0m\n",
        "\u001b[1;32m<ipython-input-7-3336ce207578>\u001b[0m in \u001b[0;36mgen_qft_state\u001b[1;34m(N, f)\u001b[0m\n\u001b[0;32m      4\u001b[0m     \u001b[1;32mfor\u001b[0m \u001b[0mx\u001b[0m \u001b[1;32min\u001b[0m \u001b[0mrange\u001b[0m\u001b[1;33m(\u001b[0m\u001b[0mN\u001b[0m\u001b[1;33m)\u001b[0m\u001b[1;33m:\u001b[0m\u001b[1;33m\u001b[0m\u001b[0m\n\u001b[0;32m      5\u001b[0m         \u001b[1;32mfor\u001b[0m \u001b[0my\u001b[0m \u001b[1;32min\u001b[0m \u001b[0mrange\u001b[0m\u001b[1;33m(\u001b[0m\u001b[0mN\u001b[0m\u001b[1;33m)\u001b[0m\u001b[1;33m:\u001b[0m\u001b[1;33m\u001b[0m\u001b[0m\n\u001b[1;32m----> 6\u001b[1;33m            \u001b[0mstate\u001b[0m\u001b[1;33m+=\u001b[0m\u001b[0mexp\u001b[0m\u001b[1;33m(\u001b[0m\u001b[1;36m2\u001b[0m\u001b[1;33m*\u001b[0m\u001b[0mnp\u001b[0m\u001b[1;33m.\u001b[0m\u001b[0mpi\u001b[0m\u001b[1;33m*\u001b[0m\u001b[0mx\u001b[0m\u001b[1;33m*\u001b[0m\u001b[0my\u001b[0m\u001b[1;33m*\u001b[0m \u001b[1;36m1j\u001b[0m\u001b[1;33m/\u001b[0m\u001b[0mN\u001b[0m\u001b[1;33m)\u001b[0m\u001b[1;33m*\u001b[0m\u001b[0mbasis\u001b[0m\u001b[1;33m[\u001b[0m\u001b[0my\u001b[0m\u001b[1;33m*\u001b[0m\u001b[0mN\u001b[0m\u001b[1;33m+\u001b[0m\u001b[0mf\u001b[0m\u001b[1;33m(\u001b[0m\u001b[0mx\u001b[0m\u001b[1;33m)\u001b[0m\u001b[1;33m]\u001b[0m\u001b[1;33m\u001b[0m\u001b[0m\n\u001b[0m\u001b[0;32m      7\u001b[0m     \u001b[1;32mreturn\u001b[0m \u001b[0mstate\u001b[0m\u001b[1;33m*\u001b[0m\u001b[1;33m(\u001b[0m\u001b[1;36m1.\u001b[0m\u001b[1;33m/\u001b[0m\u001b[0mN\u001b[0m\u001b[1;33m)\u001b[0m\u001b[1;33m\u001b[0m\u001b[0m\n",
        "\u001b[1;31mIndexError\u001b[0m: index 10 is out of bounds for axis 0 with size 9"
       ]
      }
     ],
     "prompt_number": 9
    },
    {
     "cell_type": "markdown",
     "metadata": {},
     "source": [
      "We must extract the component measured on the first register $|y>$ and the second register $|x>$"
     ]
    },
    {
     "cell_type": "code",
     "collapsed": false,
     "input": [
      "def extract(N,measurement):\n",
      "    y = measurement/ N \n",
      "    x = measurement % N \n",
      "    return y,x"
     ],
     "language": "python",
     "metadata": {},
     "outputs": [],
     "prompt_number": 10
    },
    {
     "cell_type": "markdown",
     "metadata": {},
     "source": [
      "The index of the $<y|$ component of the value measured provides a means of calculating a likely period. Period can be found by taking $y/N$ and converting it into a irreducable fraction, the denominator will be a candiate for the period $r$. "
     ]
    },
    {
     "cell_type": "code",
     "collapsed": false,
     "input": [
      "def extract_period(y,N):\n",
      "    fr = frac.Fraction(y,N)\n",
      "    return fr.denominator\n",
      "    "
     ],
     "language": "python",
     "metadata": {},
     "outputs": [],
     "prompt_number": 11
    },
    {
     "cell_type": "markdown",
     "metadata": {},
     "source": [
      "Now we must verify that with the period found $r$ that $f(x)=f(x)+f(r)$"
     ]
    },
    {
     "cell_type": "code",
     "collapsed": false,
     "input": [
      "def verify_period(f,y):    \n",
      "    if f(y) == f(0):\n",
      "        return True\n",
      "    return False \n"
     ],
     "language": "python",
     "metadata": {},
     "outputs": [],
     "prompt_number": 12
    },
    {
     "cell_type": "markdown",
     "metadata": {},
     "source": [
      "if a period is not verified it might be because the wrong value came out of the probability, we try some values around y or multiples of r"
     ]
    },
    {
     "cell_type": "code",
     "collapsed": false,
     "input": [
      "def check_near(N,f,y):    \n",
      "    \n",
      "    for l in range(-5,5):\n",
      "        y_1=l+y            \n",
      "        if 0<y_1<N:            \n",
      "            r = extract_period(y_1,N)\n",
      "            for i in range(1,5):\n",
      "                r_1 = r*i               \n",
      "                is_right = verify_period(f,r_1) \n",
      "                if is_right and ((r_1 is not 0) and r_1<N):\n",
      "                    return True,r_1,y_1\n",
      "    return False,0,0"
     ],
     "language": "python",
     "metadata": {},
     "outputs": [],
     "prompt_number": 13
    },
    {
     "cell_type": "markdown",
     "metadata": {},
     "source": [
      "We may now combine all of the period finding steps into a single function"
     ]
    },
    {
     "cell_type": "code",
     "collapsed": false,
     "input": [
      "def findperiod(N,a):\n",
      "    #define func\n",
      "    f = lambda d :f_0(N,a,d)\n",
      "    #get basis \n",
      "    basis = genBasis(N)\n",
      "    found_period = False\n",
      "    num_tries = 100\n",
      "    curr_tries = 0\n",
      "    while(not found_period):\n",
      "        # generate state \n",
      "        state = gen_qft_state(N,f)\n",
      "        # measure state  \n",
      "        m = measure(state)\n",
      "        # get y and x \n",
      "        y,x = extract(N,m)\n",
      "        # get the period \n",
      "        r = extract_period(y,N)\n",
      "        # verify the period \n",
      "        \n",
      "        is_per = verify_period(f,r)\n",
      "        #if not period look around for period \n",
      "        if not is_per:\n",
      "            is_per,r,y = check_near(N,f,y)\n",
      "        # if we now have the period return it, otherwise continue\n",
      "        if is_per:\n",
      "            return r,a \n",
      "        #\n",
      "        curr_tries+=1\n",
      "        if curr_tries>num_tries:\n",
      "            a = select_a(N)\n",
      "            f = lambda h:f_0(N,a,h)\n",
      "            curr_tries = 0 "
     ],
     "language": "python",
     "metadata": {},
     "outputs": [],
     "prompt_number": 14
    },
    {
     "cell_type": "markdown",
     "metadata": {},
     "source": [
      "We will test our period finding algorithim for a variety of $N$ values "
     ]
    },
    {
     "cell_type": "markdown",
     "metadata": {},
     "source": [
      "Two factors of $N$ will be from the period $r$ via $gcd(a^{r/2}\\pm1,N)$"
     ]
    },
    {
     "cell_type": "code",
     "collapsed": false,
     "input": [
      "def get_factors(N,r,a):\n",
      "    return int(gcd(int(a**(r/2))+1,N)),int(gcd(int(a**(r/2))-1,N))"
     ],
     "language": "python",
     "metadata": {},
     "outputs": [],
     "prompt_number": 15
    },
    {
     "cell_type": "code",
     "collapsed": false,
     "input": [
      "factors(15,12,2)"
     ],
     "language": "python",
     "metadata": {},
     "outputs": [
      {
       "ename": "NameError",
       "evalue": "name 'factors' is not defined",
       "output_type": "pyerr",
       "traceback": [
        "\u001b[1;31m---------------------------------------------------------------------------\u001b[0m\n\u001b[1;31mNameError\u001b[0m                                 Traceback (most recent call last)",
        "\u001b[1;32m<ipython-input-16-c5fe71b05f23>\u001b[0m in \u001b[0;36m<module>\u001b[1;34m()\u001b[0m\n\u001b[1;32m----> 1\u001b[1;33m \u001b[0mfactors\u001b[0m\u001b[1;33m(\u001b[0m\u001b[1;36m15\u001b[0m\u001b[1;33m,\u001b[0m\u001b[1;36m12\u001b[0m\u001b[1;33m,\u001b[0m\u001b[1;36m2\u001b[0m\u001b[1;33m)\u001b[0m\u001b[1;33m\u001b[0m\u001b[0m\n\u001b[0m",
        "\u001b[1;31mNameError\u001b[0m: name 'factors' is not defined"
       ]
      }
     ],
     "prompt_number": 16
    },
    {
     "cell_type": "markdown",
     "metadata": {},
     "source": [
      "Now we must combine all of our functions into the final algorithm"
     ]
    },
    {
     "cell_type": "code",
     "collapsed": false,
     "input": [
      "def shorfactor(N):\n",
      "    factors = [1]\n",
      "    N_i = N \n",
      "    while (N_i>1):\n",
      "        pp,f,n = isPowerofPrime(N_i)\n",
      "        if pp:\n",
      "            for x in range(n):\n",
      "                factors.append(int(f))\n",
      "            N_i = 1 \n",
      "        elif iseven(N_i):\n",
      "            factors.append(2)\n",
      "            N_i/=2\n",
      "            N_i = int(N_i)\n",
      "        else:\n",
      "            oddperiod = True\n",
      "            period = 1\n",
      "            while (oddperiod):\n",
      "                a = select_a(N_i)\n",
      "                period,a = findperiod(N_i,a)\n",
      "                if (period%2==0):\n",
      "                    oddperiod = False                \n",
      "            f_1,f_2 = get_factors(N_i,period,a)\n",
      "            factors.append(int(f_1))\n",
      "            factors.append(int(f_2))\n",
      "            N_i/=int(f_1*f_2)\n",
      "    return factors\n",
      "        "
     ],
     "language": "python",
     "metadata": {},
     "outputs": [],
     "prompt_number": 17
    },
    {
     "cell_type": "code",
     "collapsed": false,
     "input": [
      "shorfactor(101)"
     ],
     "language": "python",
     "metadata": {},
     "outputs": [
      {
       "metadata": {},
       "output_type": "pyout",
       "prompt_number": 26,
       "text": [
        "[1, 101]"
       ]
      }
     ],
     "prompt_number": 26
    },
    {
     "cell_type": "code",
     "collapsed": false,
     "input": [
      "1*2*2*2*5*5*5"
     ],
     "language": "python",
     "metadata": {},
     "outputs": [
      {
       "metadata": {},
       "output_type": "pyout",
       "prompt_number": 21,
       "text": [
        "1000"
       ]
      }
     ],
     "prompt_number": 21
    },
    {
     "cell_type": "code",
     "collapsed": false,
     "input": [
      "2^12"
     ],
     "language": "python",
     "metadata": {},
     "outputs": [
      {
       "metadata": {},
       "output_type": "pyout",
       "prompt_number": 41,
       "text": [
        "14"
       ]
      }
     ],
     "prompt_number": 41
    },
    {
     "cell_type": "code",
     "collapsed": false,
     "input": [],
     "language": "python",
     "metadata": {},
     "outputs": [],
     "prompt_number": 41
    }
   ],
   "metadata": {}
  }
 ]
}